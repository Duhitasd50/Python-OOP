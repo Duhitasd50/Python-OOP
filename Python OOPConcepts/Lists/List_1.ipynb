{
 "cells": [
  {
   "cell_type": "code",
   "execution_count": 2,
   "metadata": {},
   "outputs": [],
   "source": [
    "import string\n",
    "CHARACTERS = list(string.ascii_letters) + [\" \"]"
   ]
  },
  {
   "cell_type": "code",
   "execution_count": 5,
   "metadata": {},
   "outputs": [],
   "source": [
    "def letter_frequency(sentence):\n",
    "    frequencies = [(c, 0) for c in CHARACTERS]\n",
    "    for letter in sentence:        \n",
    "        index = CHARACTERS.index(letter)\n",
    "        frequencies[index] = (letter, frequencies[index][1] + 1)\n",
    "    return frequencies   "
   ]
  },
  {
   "cell_type": "markdown",
   "metadata": {},
   "source": [
    "## Methods of Lists:\n",
    "\n",
    "#### 1. append(element): it adds element to the end of the list\n",
    "#### 2. insert(index, element): insertes an item at a specific position\n",
    "#### 3. count(element): counts the number of times an element appears on the list\n",
    "#### 4. index(): tells us the index of an item in the list.\n",
    "#### 5. find(): does the same thing, but instead of raising an exception like in index              method it returns -1 for the missing items\n",
    "#### 6. reverse(): turns the list around\n",
    "#### 7. sort() has some complex object oriented behaviours"
   ]
  },
  {
   "cell_type": "markdown",
   "metadata": {},
   "source": [
    "### 1. append() "
   ]
  },
  {
   "cell_type": "code",
   "execution_count": 7,
   "metadata": {},
   "outputs": [
    {
     "name": "stdout",
     "output_type": "stream",
     "text": [
      "Updated animals list:  ['cat', 'dog', 'horse', 'lion']\n"
     ]
    }
   ],
   "source": [
    "animals = ['cat', 'dog', 'horse']\n",
    "animals.append('lion')\n",
    "print('Updated animals list: ', animals)"
   ]
  },
  {
   "cell_type": "code",
   "execution_count": 8,
   "metadata": {},
   "outputs": [
    {
     "name": "stdout",
     "output_type": "stream",
     "text": [
      "Updated animals list:  ['elephant', 'cow', 'fox', ['tiger', 'ligar', 'lion']]\n"
     ]
    }
   ],
   "source": [
    "# Adding list to list\n",
    "animals = ['elephant', 'cow', 'fox']\n",
    "random_animals = ['tiger', 'ligar', 'lion']\n",
    "animals.append(random_animals)\n",
    "print('Updated animals list: ', animals)"
   ]
  },
  {
   "cell_type": "markdown",
   "metadata": {},
   "source": [
    "### 2. extend()"
   ]
  },
  {
   "cell_type": "code",
   "execution_count": 9,
   "metadata": {},
   "outputs": [
    {
     "name": "stdout",
     "output_type": "stream",
     "text": [
      "Updated animals list:  ['elephant', 'cow', 'fox', 'tiger', 'ligar', 'lion']\n"
     ]
    }
   ],
   "source": [
    "# Adding list to list\n",
    "animals = ['elephant', 'cow', 'fox']\n",
    "random_animals = ['tiger', 'ligar', 'lion']\n",
    "animals.extend(random_animals)\n",
    "print('Updated animals list: ', animals)"
   ]
  },
  {
   "cell_type": "markdown",
   "metadata": {},
   "source": [
    "### 3. insert()"
   ]
  },
  {
   "cell_type": "code",
   "execution_count": 10,
   "metadata": {},
   "outputs": [
    {
     "name": "stdout",
     "output_type": "stream",
     "text": [
      "Updated room list:  ['tv', 'phone', 'bed', 'table', 'sofa']\n"
     ]
    }
   ],
   "source": [
    "room = ['tv','phone','bed','table']\n",
    "room.insert(4,'sofa')\n",
    "print(\"Updated room list: \", room)"
   ]
  },
  {
   "cell_type": "markdown",
   "metadata": {},
   "source": [
    "### 4. count()"
   ]
  },
  {
   "cell_type": "code",
   "execution_count": 14,
   "metadata": {},
   "outputs": [
    {
     "name": "stdout",
     "output_type": "stream",
     "text": [
      "1\n"
     ]
    }
   ],
   "source": [
    "room = ['tv', 'phone','bed','table','sofa']\n",
    "count = room.count('bed')\n",
    "print(count)"
   ]
  },
  {
   "cell_type": "markdown",
   "metadata": {},
   "source": [
    "### 5. index()"
   ]
  },
  {
   "cell_type": "code",
   "execution_count": 15,
   "metadata": {},
   "outputs": [
    {
     "name": "stdout",
     "output_type": "stream",
     "text": [
      "3\n"
     ]
    }
   ],
   "source": [
    "room = ['tv','phone','bed','table']\n",
    "index = room.index('table')\n",
    "print(index)"
   ]
  },
  {
   "cell_type": "code",
   "execution_count": 16,
   "metadata": {},
   "outputs": [
    {
     "ename": "ValueError",
     "evalue": "'lamp' is not in list",
     "output_type": "error",
     "traceback": [
      "\u001b[1;31m---------------------------------------------------------------------------\u001b[0m",
      "\u001b[1;31mValueError\u001b[0m                                Traceback (most recent call last)",
      "\u001b[1;32m<ipython-input-16-09eb0cd94e94>\u001b[0m in \u001b[0;36m<module>\u001b[1;34m\u001b[0m\n\u001b[0;32m      1\u001b[0m \u001b[0mroom\u001b[0m \u001b[1;33m=\u001b[0m \u001b[1;33m[\u001b[0m\u001b[1;34m'tv'\u001b[0m\u001b[1;33m,\u001b[0m\u001b[1;34m'phone'\u001b[0m\u001b[1;33m,\u001b[0m\u001b[1;34m'bed'\u001b[0m\u001b[1;33m,\u001b[0m\u001b[1;34m'table'\u001b[0m\u001b[1;33m]\u001b[0m\u001b[1;33m\u001b[0m\u001b[1;33m\u001b[0m\u001b[0m\n\u001b[1;32m----> 2\u001b[1;33m \u001b[0mindex\u001b[0m \u001b[1;33m=\u001b[0m \u001b[0mroom\u001b[0m\u001b[1;33m.\u001b[0m\u001b[0mindex\u001b[0m\u001b[1;33m(\u001b[0m\u001b[1;34m'lamp'\u001b[0m\u001b[1;33m)\u001b[0m\u001b[1;33m\u001b[0m\u001b[1;33m\u001b[0m\u001b[0m\n\u001b[0m\u001b[0;32m      3\u001b[0m \u001b[0mprint\u001b[0m\u001b[1;33m(\u001b[0m\u001b[0mindex\u001b[0m\u001b[1;33m)\u001b[0m\u001b[1;33m\u001b[0m\u001b[1;33m\u001b[0m\u001b[0m\n",
      "\u001b[1;31mValueError\u001b[0m: 'lamp' is not in list"
     ]
    }
   ],
   "source": [
    "room = ['tv','phone','bed','table']\n",
    "index = room.index('lamp')\n",
    "print(index)"
   ]
  },
  {
   "cell_type": "markdown",
   "metadata": {},
   "source": [
    "### 6. find():  \n",
    "The find() method takes max three params:\n",
    "sub: its the substring to be searched in the str string.\n",
    "start & end(optional) : substring is searched within str[start:end]"
   ]
  },
  {
   "cell_type": "code",
   "execution_count": 23,
   "metadata": {},
   "outputs": [
    {
     "name": "stdout",
     "output_type": "stream",
     "text": [
      "-1\n"
     ]
    }
   ],
   "source": [
    "quote = 'Do small things with great love'\n",
    "print(quote.find('not yet', 10))"
   ]
  },
  {
   "cell_type": "markdown",
   "metadata": {},
   "source": [
    "### 7. reverse()"
   ]
  },
  {
   "cell_type": "code",
   "execution_count": 28,
   "metadata": {},
   "outputs": [
    {
     "name": "stdout",
     "output_type": "stream",
     "text": [
      "Original list:  ['Trees', 'Wild animals', 'Rain', 'Birds']\n"
     ]
    }
   ],
   "source": [
    "forest = ['Trees','Wild animals','Rain', 'Birds']\n",
    "print('Original list: ', forest)"
   ]
  },
  {
   "cell_type": "code",
   "execution_count": 33,
   "metadata": {},
   "outputs": [
    {
     "name": "stdout",
     "output_type": "stream",
     "text": [
      "Updated list:  ['Birds', 'Rain', 'Wild animals', 'Trees']\n"
     ]
    }
   ],
   "source": [
    "reverse = forest[::-1] # Syantax: xyz[start:stop:step] \n",
    "print(\"Updated list: \", reverse)"
   ]
  },
  {
   "cell_type": "code",
   "execution_count": 35,
   "metadata": {},
   "outputs": [
    {
     "name": "stdout",
     "output_type": "stream",
     "text": [
      "Original list:  ['Birds', 'Rain', 'Wild animals', 'Trees']\n"
     ]
    }
   ],
   "source": [
    "# if we try to print rev_forest() it will give a none. we need to print the original \n",
    "# list forest()\n",
    "forest = ['Trees','Wild animals','Rain', 'Birds']\n",
    "rev_forest = forest.reverse()\n",
    "print('Original list: ', forest)\n"
   ]
  },
  {
   "cell_type": "markdown",
   "metadata": {},
   "source": [
    "### 8. sort()"
   ]
  },
  {
   "cell_type": "code",
   "execution_count": 36,
   "metadata": {},
   "outputs": [
    {
     "name": "stdout",
     "output_type": "stream",
     "text": [
      "Friends list in reverse:  ['pheobe', 'Ross', 'Rachel', 'Monica', 'Joey', 'Chandler']\n"
     ]
    }
   ],
   "source": [
    "friends = ['Ross', 'Rachel', 'Monica', 'Chandler', 'Joey', 'pheobe']\n",
    "friends.sort(reverse =True)\n",
    "print(\"Friends list in reverse: \", friends)"
   ]
  }
 ],
 "metadata": {
  "kernelspec": {
   "display_name": "Python 3",
   "language": "python",
   "name": "python3"
  },
  "language_info": {
   "codemirror_mode": {
    "name": "ipython",
    "version": 3
   },
   "file_extension": ".py",
   "mimetype": "text/x-python",
   "name": "python",
   "nbconvert_exporter": "python",
   "pygments_lexer": "ipython3",
   "version": "3.6.8"
  }
 },
 "nbformat": 4,
 "nbformat_minor": 2
}
